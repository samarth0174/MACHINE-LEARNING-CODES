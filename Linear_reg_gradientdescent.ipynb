{
 "cells": [
  {
   "cell_type": "markdown",
   "metadata": {},
   "source": [
    "# MACHINE LEARNING LAB:\n",
    "\n",
    "# Submitted by: \n",
    "# 17BCE2165   Samarth Gupta\n",
    "\n",
    "# Exercise – 2 Implement Linear regression using gradient descent algorithm and train & test your # code using any data set of your choice from UCI repository\n",
    "# Dataset Used Wine dataset\n"
   ]
  },
  {
   "cell_type": "code",
   "execution_count": 1,
   "metadata": {},
   "outputs": [],
   "source": [
    "import numpy as np\n",
    "import pandas as pd\n",
    "import matplotlib.pyplot as plt\n",
    "%matplotlib inline"
   ]
  },
  {
   "cell_type": "code",
   "execution_count": 2,
   "metadata": {},
   "outputs": [
    {
     "data": {
      "text/html": [
       "<div>\n",
       "<style scoped>\n",
       "    .dataframe tbody tr th:only-of-type {\n",
       "        vertical-align: middle;\n",
       "    }\n",
       "\n",
       "    .dataframe tbody tr th {\n",
       "        vertical-align: top;\n",
       "    }\n",
       "\n",
       "    .dataframe thead th {\n",
       "        text-align: right;\n",
       "    }\n",
       "</style>\n",
       "<table border=\"1\" class=\"dataframe\">\n",
       "  <thead>\n",
       "    <tr style=\"text-align: right;\">\n",
       "      <th></th>\n",
       "      <th>fixed acidity</th>\n",
       "      <th>volatile acidity</th>\n",
       "      <th>citric acid</th>\n",
       "      <th>residual sugar</th>\n",
       "      <th>chlorides</th>\n",
       "      <th>free sulfur dioxide</th>\n",
       "      <th>total sulfur dioxide</th>\n",
       "      <th>density</th>\n",
       "      <th>pH</th>\n",
       "      <th>sulphates</th>\n",
       "      <th>alcohol</th>\n",
       "      <th>quality</th>\n",
       "    </tr>\n",
       "  </thead>\n",
       "  <tbody>\n",
       "    <tr>\n",
       "      <td>0</td>\n",
       "      <td>7.0</td>\n",
       "      <td>0.27</td>\n",
       "      <td>0.36</td>\n",
       "      <td>20.7</td>\n",
       "      <td>0.045</td>\n",
       "      <td>45.0</td>\n",
       "      <td>170.0</td>\n",
       "      <td>1.0010</td>\n",
       "      <td>3.00</td>\n",
       "      <td>0.45</td>\n",
       "      <td>8.8</td>\n",
       "      <td>6</td>\n",
       "    </tr>\n",
       "    <tr>\n",
       "      <td>1</td>\n",
       "      <td>6.3</td>\n",
       "      <td>0.30</td>\n",
       "      <td>0.34</td>\n",
       "      <td>1.6</td>\n",
       "      <td>0.049</td>\n",
       "      <td>14.0</td>\n",
       "      <td>132.0</td>\n",
       "      <td>0.9940</td>\n",
       "      <td>3.30</td>\n",
       "      <td>0.49</td>\n",
       "      <td>9.5</td>\n",
       "      <td>6</td>\n",
       "    </tr>\n",
       "    <tr>\n",
       "      <td>2</td>\n",
       "      <td>8.1</td>\n",
       "      <td>0.28</td>\n",
       "      <td>0.40</td>\n",
       "      <td>6.9</td>\n",
       "      <td>0.050</td>\n",
       "      <td>30.0</td>\n",
       "      <td>97.0</td>\n",
       "      <td>0.9951</td>\n",
       "      <td>3.26</td>\n",
       "      <td>0.44</td>\n",
       "      <td>10.1</td>\n",
       "      <td>6</td>\n",
       "    </tr>\n",
       "    <tr>\n",
       "      <td>3</td>\n",
       "      <td>7.2</td>\n",
       "      <td>0.23</td>\n",
       "      <td>0.32</td>\n",
       "      <td>8.5</td>\n",
       "      <td>0.058</td>\n",
       "      <td>47.0</td>\n",
       "      <td>186.0</td>\n",
       "      <td>0.9956</td>\n",
       "      <td>3.19</td>\n",
       "      <td>0.40</td>\n",
       "      <td>9.9</td>\n",
       "      <td>6</td>\n",
       "    </tr>\n",
       "    <tr>\n",
       "      <td>4</td>\n",
       "      <td>7.2</td>\n",
       "      <td>0.23</td>\n",
       "      <td>0.32</td>\n",
       "      <td>8.5</td>\n",
       "      <td>0.058</td>\n",
       "      <td>47.0</td>\n",
       "      <td>186.0</td>\n",
       "      <td>0.9956</td>\n",
       "      <td>3.19</td>\n",
       "      <td>0.40</td>\n",
       "      <td>9.9</td>\n",
       "      <td>6</td>\n",
       "    </tr>\n",
       "  </tbody>\n",
       "</table>\n",
       "</div>"
      ],
      "text/plain": [
       "   fixed acidity  volatile acidity  citric acid  residual sugar  chlorides  \\\n",
       "0            7.0              0.27         0.36            20.7      0.045   \n",
       "1            6.3              0.30         0.34             1.6      0.049   \n",
       "2            8.1              0.28         0.40             6.9      0.050   \n",
       "3            7.2              0.23         0.32             8.5      0.058   \n",
       "4            7.2              0.23         0.32             8.5      0.058   \n",
       "\n",
       "   free sulfur dioxide  total sulfur dioxide  density    pH  sulphates  \\\n",
       "0                 45.0                 170.0   1.0010  3.00       0.45   \n",
       "1                 14.0                 132.0   0.9940  3.30       0.49   \n",
       "2                 30.0                  97.0   0.9951  3.26       0.44   \n",
       "3                 47.0                 186.0   0.9956  3.19       0.40   \n",
       "4                 47.0                 186.0   0.9956  3.19       0.40   \n",
       "\n",
       "   alcohol  quality  \n",
       "0      8.8        6  \n",
       "1      9.5        6  \n",
       "2     10.1        6  \n",
       "3      9.9        6  \n",
       "4      9.9        6  "
      ]
     },
     "execution_count": 2,
     "metadata": {},
     "output_type": "execute_result"
    }
   ],
   "source": [
    "raw_data = pd.read_csv(\"../Documents/winequality_white.csv\")\n",
    "raw_data.head()\n"
   ]
  },
  {
   "cell_type": "code",
   "execution_count": 3,
   "metadata": {},
   "outputs": [],
   "source": [
    "#Feature Scaling \n",
    "data=(raw_data-raw_data.mean())/(raw_data.max()-raw_data.min())\n",
    "data.head()\n",
    "data.to_csv(\"ff.csv\")\n"
   ]
  },
  {
   "cell_type": "code",
   "execution_count": 4,
   "metadata": {},
   "outputs": [
    {
     "data": {
      "text/html": [
       "<div>\n",
       "<style scoped>\n",
       "    .dataframe tbody tr th:only-of-type {\n",
       "        vertical-align: middle;\n",
       "    }\n",
       "\n",
       "    .dataframe tbody tr th {\n",
       "        vertical-align: top;\n",
       "    }\n",
       "\n",
       "    .dataframe thead th {\n",
       "        text-align: right;\n",
       "    }\n",
       "</style>\n",
       "<table border=\"1\" class=\"dataframe\">\n",
       "  <thead>\n",
       "    <tr style=\"text-align: right;\">\n",
       "      <th></th>\n",
       "      <th>fixed acidity</th>\n",
       "      <th>volatile acidity</th>\n",
       "      <th>citric acid</th>\n",
       "      <th>residual sugar</th>\n",
       "      <th>chlorides</th>\n",
       "      <th>free sulfur dioxide</th>\n",
       "      <th>total sulfur dioxide</th>\n",
       "      <th>density</th>\n",
       "      <th>pH</th>\n",
       "      <th>sulphates</th>\n",
       "      <th>alcohol</th>\n",
       "      <th>quality</th>\n",
       "    </tr>\n",
       "  </thead>\n",
       "  <tbody>\n",
       "    <tr>\n",
       "      <td>count</td>\n",
       "      <td>4.898000e+03</td>\n",
       "      <td>4.898000e+03</td>\n",
       "      <td>4.898000e+03</td>\n",
       "      <td>4.898000e+03</td>\n",
       "      <td>4.898000e+03</td>\n",
       "      <td>4.898000e+03</td>\n",
       "      <td>4.898000e+03</td>\n",
       "      <td>4.898000e+03</td>\n",
       "      <td>4.898000e+03</td>\n",
       "      <td>4.898000e+03</td>\n",
       "      <td>4.898000e+03</td>\n",
       "      <td>4.898000e+03</td>\n",
       "    </tr>\n",
       "    <tr>\n",
       "      <td>mean</td>\n",
       "      <td>2.117145e-15</td>\n",
       "      <td>-1.106593e-15</td>\n",
       "      <td>3.988279e-15</td>\n",
       "      <td>-1.952779e-16</td>\n",
       "      <td>-7.546366e-17</td>\n",
       "      <td>7.012561e-19</td>\n",
       "      <td>-1.792949e-17</td>\n",
       "      <td>1.238818e-13</td>\n",
       "      <td>1.899979e-15</td>\n",
       "      <td>-1.715876e-15</td>\n",
       "      <td>-6.426141e-15</td>\n",
       "      <td>2.646144e-17</td>\n",
       "    </tr>\n",
       "    <tr>\n",
       "      <td>std</td>\n",
       "      <td>8.114118e-02</td>\n",
       "      <td>9.881818e-02</td>\n",
       "      <td>7.290350e-02</td>\n",
       "      <td>7.779230e-02</td>\n",
       "      <td>6.483077e-02</td>\n",
       "      <td>5.925832e-02</td>\n",
       "      <td>9.860340e-02</td>\n",
       "      <td>5.766159e-02</td>\n",
       "      <td>1.372733e-01</td>\n",
       "      <td>1.327045e-01</td>\n",
       "      <td>1.984872e-01</td>\n",
       "      <td>1.476064e-01</td>\n",
       "    </tr>\n",
       "    <tr>\n",
       "      <td>min</td>\n",
       "      <td>-2.937296e-01</td>\n",
       "      <td>-1.943540e-01</td>\n",
       "      <td>-2.013202e-01</td>\n",
       "      <td>-8.882538e-02</td>\n",
       "      <td>-1.091168e-01</td>\n",
       "      <td>-1.160560e-01</td>\n",
       "      <td>-3.001407e-01</td>\n",
       "      <td>-1.333599e-01</td>\n",
       "      <td>-4.256969e-01</td>\n",
       "      <td>-3.137754e-01</td>\n",
       "      <td>-4.055269e-01</td>\n",
       "      <td>-4.796516e-01</td>\n",
       "    </tr>\n",
       "    <tr>\n",
       "      <td>25%</td>\n",
       "      <td>-5.334497e-02</td>\n",
       "      <td>-6.690306e-02</td>\n",
       "      <td>-3.866958e-02</td>\n",
       "      <td>-7.195422e-02</td>\n",
       "      <td>-2.899809e-02</td>\n",
       "      <td>-4.288531e-02</td>\n",
       "      <td>-7.044236e-02</td>\n",
       "      <td>-4.443564e-02</td>\n",
       "      <td>-8.933331e-02</td>\n",
       "      <td>-9.284520e-02</td>\n",
       "      <td>-1.635915e-01</td>\n",
       "      <td>-1.463182e-01</td>\n",
       "    </tr>\n",
       "    <tr>\n",
       "      <td>50%</td>\n",
       "      <td>-5.268045e-03</td>\n",
       "      <td>-1.788345e-02</td>\n",
       "      <td>-8.549100e-03</td>\n",
       "      <td>-1.827323e-02</td>\n",
       "      <td>-8.226576e-03</td>\n",
       "      <td>-4.557787e-03</td>\n",
       "      <td>-1.011753e-02</td>\n",
       "      <td>-5.540322e-03</td>\n",
       "      <td>-7.515127e-03</td>\n",
       "      <td>-2.307776e-02</td>\n",
       "      <td>-1.843017e-02</td>\n",
       "      <td>2.034844e-02</td>\n",
       "    </tr>\n",
       "    <tr>\n",
       "      <td>75%</td>\n",
       "      <td>4.280888e-02</td>\n",
       "      <td>4.094008e-02</td>\n",
       "      <td>3.361957e-02</td>\n",
       "      <td>5.381266e-02</td>\n",
       "      <td>1.254494e-02</td>\n",
       "      <td>3.725406e-02</td>\n",
       "      <td>6.644859e-02</td>\n",
       "      <td>3.995804e-02</td>\n",
       "      <td>8.339396e-02</td>\n",
       "      <td>6.994549e-02</td>\n",
       "      <td>1.428602e-01</td>\n",
       "      <td>2.034844e-02</td>\n",
       "    </tr>\n",
       "    <tr>\n",
       "      <td>max</td>\n",
       "      <td>7.062704e-01</td>\n",
       "      <td>8.056460e-01</td>\n",
       "      <td>7.986798e-01</td>\n",
       "      <td>9.111746e-01</td>\n",
       "      <td>8.908832e-01</td>\n",
       "      <td>8.839440e-01</td>\n",
       "      <td>6.998593e-01</td>\n",
       "      <td>8.666401e-01</td>\n",
       "      <td>5.743031e-01</td>\n",
       "      <td>6.862246e-01</td>\n",
       "      <td>5.944731e-01</td>\n",
       "      <td>5.203484e-01</td>\n",
       "    </tr>\n",
       "  </tbody>\n",
       "</table>\n",
       "</div>"
      ],
      "text/plain": [
       "       fixed acidity  volatile acidity   citric acid  residual sugar  \\\n",
       "count   4.898000e+03      4.898000e+03  4.898000e+03    4.898000e+03   \n",
       "mean    2.117145e-15     -1.106593e-15  3.988279e-15   -1.952779e-16   \n",
       "std     8.114118e-02      9.881818e-02  7.290350e-02    7.779230e-02   \n",
       "min    -2.937296e-01     -1.943540e-01 -2.013202e-01   -8.882538e-02   \n",
       "25%    -5.334497e-02     -6.690306e-02 -3.866958e-02   -7.195422e-02   \n",
       "50%    -5.268045e-03     -1.788345e-02 -8.549100e-03   -1.827323e-02   \n",
       "75%     4.280888e-02      4.094008e-02  3.361957e-02    5.381266e-02   \n",
       "max     7.062704e-01      8.056460e-01  7.986798e-01    9.111746e-01   \n",
       "\n",
       "          chlorides  free sulfur dioxide  total sulfur dioxide       density  \\\n",
       "count  4.898000e+03         4.898000e+03          4.898000e+03  4.898000e+03   \n",
       "mean  -7.546366e-17         7.012561e-19         -1.792949e-17  1.238818e-13   \n",
       "std    6.483077e-02         5.925832e-02          9.860340e-02  5.766159e-02   \n",
       "min   -1.091168e-01        -1.160560e-01         -3.001407e-01 -1.333599e-01   \n",
       "25%   -2.899809e-02        -4.288531e-02         -7.044236e-02 -4.443564e-02   \n",
       "50%   -8.226576e-03        -4.557787e-03         -1.011753e-02 -5.540322e-03   \n",
       "75%    1.254494e-02         3.725406e-02          6.644859e-02  3.995804e-02   \n",
       "max    8.908832e-01         8.839440e-01          6.998593e-01  8.666401e-01   \n",
       "\n",
       "                 pH     sulphates       alcohol       quality  \n",
       "count  4.898000e+03  4.898000e+03  4.898000e+03  4.898000e+03  \n",
       "mean   1.899979e-15 -1.715876e-15 -6.426141e-15  2.646144e-17  \n",
       "std    1.372733e-01  1.327045e-01  1.984872e-01  1.476064e-01  \n",
       "min   -4.256969e-01 -3.137754e-01 -4.055269e-01 -4.796516e-01  \n",
       "25%   -8.933331e-02 -9.284520e-02 -1.635915e-01 -1.463182e-01  \n",
       "50%   -7.515127e-03 -2.307776e-02 -1.843017e-02  2.034844e-02  \n",
       "75%    8.339396e-02  6.994549e-02  1.428602e-01  2.034844e-02  \n",
       "max    5.743031e-01  6.862246e-01  5.944731e-01  5.203484e-01  "
      ]
     },
     "execution_count": 4,
     "metadata": {},
     "output_type": "execute_result"
    }
   ],
   "source": [
    "data.describe()"
   ]
  },
  {
   "cell_type": "code",
   "execution_count": null,
   "metadata": {},
   "outputs": [],
   "source": []
  },
  {
   "cell_type": "code",
   "execution_count": 5,
   "metadata": {},
   "outputs": [
    {
     "data": {
      "text/plain": [
       "(4898, 12)"
      ]
     },
     "execution_count": 5,
     "metadata": {},
     "output_type": "execute_result"
    }
   ],
   "source": [
    "# Data dimensions, rows and cols\n",
    "data.shape"
   ]
  },
  {
   "cell_type": "code",
   "execution_count": 6,
   "metadata": {},
   "outputs": [
    {
     "data": {
      "text/html": [
       "<div>\n",
       "<style scoped>\n",
       "    .dataframe tbody tr th:only-of-type {\n",
       "        vertical-align: middle;\n",
       "    }\n",
       "\n",
       "    .dataframe tbody tr th {\n",
       "        vertical-align: top;\n",
       "    }\n",
       "\n",
       "    .dataframe thead th {\n",
       "        text-align: right;\n",
       "    }\n",
       "</style>\n",
       "<table border=\"1\" class=\"dataframe\">\n",
       "  <thead>\n",
       "    <tr style=\"text-align: right;\">\n",
       "      <th></th>\n",
       "      <th>Ones</th>\n",
       "      <th>fixed acidity</th>\n",
       "      <th>volatile acidity</th>\n",
       "      <th>citric acid</th>\n",
       "      <th>residual sugar</th>\n",
       "      <th>chlorides</th>\n",
       "      <th>free sulfur dioxide</th>\n",
       "      <th>total sulfur dioxide</th>\n",
       "      <th>density</th>\n",
       "      <th>pH</th>\n",
       "      <th>sulphates</th>\n",
       "      <th>alcohol</th>\n",
       "      <th>quality</th>\n",
       "    </tr>\n",
       "  </thead>\n",
       "  <tbody>\n",
       "    <tr>\n",
       "      <td>0</td>\n",
       "      <td>1</td>\n",
       "      <td>0.013963</td>\n",
       "      <td>-0.008080</td>\n",
       "      <td>0.015547</td>\n",
       "      <td>0.219457</td>\n",
       "      <td>-0.002292</td>\n",
       "      <td>0.033770</td>\n",
       "      <td>0.073409</td>\n",
       "      <td>0.134425</td>\n",
       "      <td>-0.171151</td>\n",
       "      <td>-0.046334</td>\n",
       "      <td>-0.276495</td>\n",
       "      <td>0.020348</td>\n",
       "    </tr>\n",
       "    <tr>\n",
       "      <td>1</td>\n",
       "      <td>1</td>\n",
       "      <td>-0.053345</td>\n",
       "      <td>0.021332</td>\n",
       "      <td>0.003499</td>\n",
       "      <td>-0.073488</td>\n",
       "      <td>0.009578</td>\n",
       "      <td>-0.074244</td>\n",
       "      <td>-0.014758</td>\n",
       "      <td>-0.000528</td>\n",
       "      <td>0.101576</td>\n",
       "      <td>0.000178</td>\n",
       "      <td>-0.163591</td>\n",
       "      <td>0.020348</td>\n",
       "    </tr>\n",
       "    <tr>\n",
       "      <td>2</td>\n",
       "      <td>1</td>\n",
       "      <td>0.119732</td>\n",
       "      <td>0.001724</td>\n",
       "      <td>0.039644</td>\n",
       "      <td>0.007800</td>\n",
       "      <td>0.012545</td>\n",
       "      <td>-0.018495</td>\n",
       "      <td>-0.095964</td>\n",
       "      <td>0.020679</td>\n",
       "      <td>0.065212</td>\n",
       "      <td>-0.057961</td>\n",
       "      <td>-0.066817</td>\n",
       "      <td>0.020348</td>\n",
       "    </tr>\n",
       "    <tr>\n",
       "      <td>3</td>\n",
       "      <td>1</td>\n",
       "      <td>0.033193</td>\n",
       "      <td>-0.047295</td>\n",
       "      <td>-0.008549</td>\n",
       "      <td>0.032340</td>\n",
       "      <td>0.036284</td>\n",
       "      <td>0.040738</td>\n",
       "      <td>0.110532</td>\n",
       "      <td>0.030319</td>\n",
       "      <td>0.001576</td>\n",
       "      <td>-0.104473</td>\n",
       "      <td>-0.099075</td>\n",
       "      <td>0.020348</td>\n",
       "    </tr>\n",
       "    <tr>\n",
       "      <td>4</td>\n",
       "      <td>1</td>\n",
       "      <td>0.033193</td>\n",
       "      <td>-0.047295</td>\n",
       "      <td>-0.008549</td>\n",
       "      <td>0.032340</td>\n",
       "      <td>0.036284</td>\n",
       "      <td>0.040738</td>\n",
       "      <td>0.110532</td>\n",
       "      <td>0.030319</td>\n",
       "      <td>0.001576</td>\n",
       "      <td>-0.104473</td>\n",
       "      <td>-0.099075</td>\n",
       "      <td>0.020348</td>\n",
       "    </tr>\n",
       "  </tbody>\n",
       "</table>\n",
       "</div>"
      ],
      "text/plain": [
       "   Ones  fixed acidity  volatile acidity  citric acid  residual sugar  \\\n",
       "0     1       0.013963         -0.008080     0.015547        0.219457   \n",
       "1     1      -0.053345          0.021332     0.003499       -0.073488   \n",
       "2     1       0.119732          0.001724     0.039644        0.007800   \n",
       "3     1       0.033193         -0.047295    -0.008549        0.032340   \n",
       "4     1       0.033193         -0.047295    -0.008549        0.032340   \n",
       "\n",
       "   chlorides  free sulfur dioxide  total sulfur dioxide   density        pH  \\\n",
       "0  -0.002292             0.033770              0.073409  0.134425 -0.171151   \n",
       "1   0.009578            -0.074244             -0.014758 -0.000528  0.101576   \n",
       "2   0.012545            -0.018495             -0.095964  0.020679  0.065212   \n",
       "3   0.036284             0.040738              0.110532  0.030319  0.001576   \n",
       "4   0.036284             0.040738              0.110532  0.030319  0.001576   \n",
       "\n",
       "   sulphates   alcohol   quality  \n",
       "0  -0.046334 -0.276495  0.020348  \n",
       "1   0.000178 -0.163591  0.020348  \n",
       "2  -0.057961 -0.066817  0.020348  \n",
       "3  -0.104473 -0.099075  0.020348  \n",
       "4  -0.104473 -0.099075  0.020348  "
      ]
     },
     "execution_count": 6,
     "metadata": {},
     "output_type": "execute_result"
    }
   ],
   "source": [
    "data.insert(0, 'Ones',1)\n",
    "data.head()"
   ]
  },
  {
   "cell_type": "code",
   "execution_count": 7,
   "metadata": {},
   "outputs": [
    {
     "name": "stdout",
     "output_type": "stream",
     "text": [
      "13\n"
     ]
    }
   ],
   "source": [
    "cols = data.shape[1]\n",
    "print(cols)"
   ]
  },
  {
   "cell_type": "code",
   "execution_count": 8,
   "metadata": {},
   "outputs": [],
   "source": [
    "x=data.iloc[:,0:cols-1]\n",
    "y=data.iloc[:,cols-1:cols]\n"
   ]
  },
  {
   "cell_type": "code",
   "execution_count": 9,
   "metadata": {},
   "outputs": [],
   "source": [
    "x = np.matrix(x)\n",
    "y = np.matrix(y)\n",
    "theta=  np.zeros([1,12])"
   ]
  },
  {
   "cell_type": "code",
   "execution_count": 10,
   "metadata": {},
   "outputs": [],
   "source": [
    "x.shape, theta.shape, y.shape\n",
    "def computeError(x, y, theta):\n",
    "    inner = np.power(((x*theta.T)-y),2)\n",
    "    return np.sum(inner)/(2*len(x))"
   ]
  },
  {
   "cell_type": "code",
   "execution_count": 11,
   "metadata": {},
   "outputs": [],
   "source": [
    "lr=1\n",
    "iters=150\n",
    "def gradientdescent(x,y,theta,lr,iters):\n",
    "    temp= np.matrix(np.zeros(theta.shape))\n",
    "    params= 12\n",
    "    cost=np.zeros(iters)\n",
    "    for i in range(iters):\n",
    "        error = (x*theta.T)-y\n",
    "        for j in range(params):\n",
    "            term = np.multiply(error,x[:,j])\n",
    "            temp[0,j]=theta[0,j]-((lr/len(x))*np.sum(term))\n",
    "        theta=temp\n",
    "        cost[i] = computeError(x,y,theta)\n",
    "    return theta,cost"
   ]
  },
  {
   "cell_type": "code",
   "execution_count": 12,
   "metadata": {},
   "outputs": [
    {
     "name": "stdout",
     "output_type": "stream",
     "text": [
      "[[ 5.53216562e-15 -6.23939532e-02 -2.46858875e-01  1.54939280e-02\n",
      "   1.12762752e-01 -7.03180672e-02  9.47815671e-02 -1.22417386e-02\n",
      "  -2.90552635e-02  3.24408657e-02  5.47045336e-02  3.29473097e-01]]\n"
     ]
    }
   ],
   "source": [
    "new_theta,cost = gradientdescent(x,y,theta,lr,iters)\n",
    "print(new_theta)\n"
   ]
  },
  {
   "cell_type": "code",
   "execution_count": 13,
   "metadata": {},
   "outputs": [
    {
     "name": "stdout",
     "output_type": "stream",
     "text": [
      "0.008054210747394269\n"
     ]
    }
   ],
   "source": [
    "print(cost[-1])"
   ]
  },
  {
   "cell_type": "code",
   "execution_count": 20,
   "metadata": {},
   "outputs": [
    {
     "data": {
      "text/plain": [
       "Text(0.5, 1.0, 'Using Gradient Descent: Error vs. Iterations')"
      ]
     },
     "execution_count": 20,
     "metadata": {},
     "output_type": "execute_result"
    },
    {
     "data": {
      "image/png": "[encoded data removed]",
      "text/plain": [
       "<Figure size 864x576 with 1 Axes>"
      ]
     },
     "metadata": {
      "needs_background": "light"
     },
     "output_type": "display_data"
    }
   ],
   "source": [
    "fig,ax=plt.subplots(figsize=(12,8))\n",
    "ax.plot(np.arange(iters),cost,'r')\n",
    "ax.set_xlabel('Iterations')\n",
    "ax.set_ylabel('Cost')\n",
    "ax.set_title('Using Gradient Descent: Error vs. Iterations')"
   ]
  },
  {
   "cell_type": "code",
   "execution_count": 15,
   "metadata": {},
   "outputs": [
    {
     "name": "stdout",
     "output_type": "stream",
     "text": [
      "[[ 1.00000000e+00  1.39627242e-02 -8.07952826e-03 ... -1.71151490e-01\n",
      "  -4.63335771e-02 -2.76494685e-01]\n",
      " [ 1.00000000e+00 -5.33449681e-02  2.13322364e-02 ...  1.01575782e-01\n",
      "   1.78050842e-04 -1.63591459e-01]\n",
      " [ 1.00000000e+00  1.19731955e-01  1.72439331e-03 ...  6.52121460e-02\n",
      "  -5.79614840e-02 -6.68172658e-02]\n",
      " ...\n",
      " [ 1.00000000e+00 -3.41141989e-02 -3.74912930e-02 ... -1.80242399e-01\n",
      "  -3.47056701e-02 -1.79720492e-01]\n",
      " [ 1.00000000e+00 -1.30268045e-01  1.15283149e-02 ...  1.37939419e-01\n",
      "  -1.27728926e-01  3.68666605e-01]\n",
      " [ 1.00000000e+00 -8.21911220e-02 -6.69030577e-02 ...  6.52121460e-02\n",
      "  -1.97496368e-01  2.07376283e-01]]\n"
     ]
    }
   ],
   "source": [
    "print(x)\n",
    "Model= new_theta[0,0] \n",
    "for i in range(1,12):\n",
    "    Model = Model + (new_theta[0,i]*x[:,i])\n"
   ]
  },
  {
   "cell_type": "code",
   "execution_count": 17,
   "metadata": {},
   "outputs": [
    {
     "name": "stdout",
     "output_type": "stream",
     "text": [
      "error % = 1.6108421494788534\n",
      "accuracy % = 98.38915785052114\n"
     ]
    }
   ],
   "source": [
    "import math\n",
    "erro_r = [np.power((b-a),2) for (a,b) in zip(Model,y)] #mean absolute percent error\n",
    "error0= np.sum(erro_r)\n",
    "error = (error0/len(y))*100\n",
    "print(\"error % = {}\".format(error))\n",
    "accuracy = 100-error\n",
    "print(\"accuracy % = {}\".format(accuracy))"
   ]
  },
  {
   "cell_type": "code",
   "execution_count": 18,
   "metadata": {},
   "outputs": [],
   "source": [
    "def predict(new_theta,accuracy):\n",
    "    size = x[555,:]\n",
    "    \n",
    "    Model= new_theta[0,0] \n",
    "    for i in range(1,12):\n",
    "        Model = Model + (new_theta[0,i]*x[0,i])\n",
    "\n",
    "    predicted_price = (Model*(raw_data.quality.max()-raw_data.quality.min()+raw_data.quality.mean()))\n",
    "    price_at_max_accuracy = (predicted_price *(1/accuracy)*100)\n",
    "    price_range = price_at_max_accuracy - predicted_price\n",
    "    return predicted_price, price_range"
   ]
  },
  {
   "cell_type": "code",
   "execution_count": 21,
   "metadata": {},
   "outputs": [
    {
     "name": "stdout",
     "output_type": "stream",
     "text": [
      "Predicted Wine Quality IS:-0.8850974097855301(+or-)-0.01449094844620169\n"
     ]
    }
   ],
   "source": [
    "predicted_price,price_range = predict(new_theta,accuracy)\n",
    "print('Predicted Wine Quality IS:'+str(predicted_price)+'(+or-)'+str(price_range))"
   ]
  }
 ],
 "metadata": {
  "kernelspec": {
   "display_name": "Python 3",
   "language": "python",
   "name": "python3"
  },
  "language_info": {
   "codemirror_mode": {
    "name": "ipython",
    "version": 3
   },
   "file_extension": ".py",
   "mimetype": "text/x-python",
   "name": "python",
   "nbconvert_exporter": "python",
   "pygments_lexer": "ipython3",
   "version": "3.7.4"
  }
 },
 "nbformat": 4,
 "nbformat_minor": 4
}
